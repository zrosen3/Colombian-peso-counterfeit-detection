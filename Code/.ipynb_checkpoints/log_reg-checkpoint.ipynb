{
 "cells": [
  {
   "cell_type": "markdown",
   "metadata": {},
   "source": [
    "#Load libraries"
   ]
  },
  {
   "cell_type": "code",
   "execution_count": 29,
   "metadata": {
    "id": "UWEMpjNGiirf"
   },
   "outputs": [],
   "source": [
    "import matplotlib.pyplot as plt #For plotting our visualizations\n",
    "import numpy as np\n",
    "import pandas as pd\n",
    "import tensorflow as tf\n",
    "import tensorflow_datasets as tfds\n",
    "from sklearn.neighbors import KNeighborsClassifier\n",
    "from sklearn.tree import DecisionTreeClassifier\n",
    "from sklearn.ensemble import RandomForestClassifier\n",
    "import tensorflow_decision_forests as tfdf\n",
    "import cv2\n",
    "from PIL import Image\n",
    "import seaborn as sns\n",
    "import LoadData, NormalizeData, PeakData, MakeModel, ExtractLabels, ConfusionMatrix, EvaluateModel from common_functions\n"
   ]
  },
  {
   "cell_type": "markdown",
   "metadata": {
    "colab": {
     "base_uri": "https://localhost:8080/"
    },
    "id": "28nGmi2Fiirg",
    "outputId": "1bb6cd04-77bf-4595-8093-00e2f3844512"
   },
   "source": [
    "#Load in data"
   ]
  },
  {
   "cell_type": "code",
   "execution_count": 32,
   "metadata": {
    "id": "HDDjP4RD4_B0"
   },
   "outputs": [],
   "source": [
    "train_ds, test_ds, validation_ds, class_names = load_data()\n"
   ]
  },
  {
   "cell_type": "markdown",
   "metadata": {
    "id": "lgsvOhhIiirg"
   },
   "source": [
    "## Standardize the data"
   ]
  },
  {
   "cell_type": "code",
   "execution_count": 34,
   "metadata": {
    "id": "F2IgYQbeiirg"
   },
   "outputs": [],
   "source": [
    "train_ds, test_ds, validation_ds =  map(NormalizeData, (train_ds, test_ds, validation_ds))"
   ]
  },
  {
   "cell_type": "markdown",
   "metadata": {},
   "source": [
    "## Run logistic regression model"
   ]
  },
  {
   "cell_type": "code",
   "execution_count": null,
   "metadata": {},
   "outputs": [],
   "source": [
    "tf.keras.backend.clear_session()\n",
    "np.random.seed(0)\n",
    "tf.random.set_seed(0)\n",
    "\n",
    "model = tf.keras.Sequential([\n",
    "    tf.keras.layers.Rescaling(1./255),\n",
    "    tf.keras.layers.Dense(\n",
    "        units = len(class_names),\n",
    "        activation = \"softmax\"\n",
    "])\n",
    "\n",
    "model.compile(\n",
    "    optimizer='adam',\n",
    "    loss=tf.keras.losses.SparseCategoricalCrossentropy(from_logits=True),\n",
    "    metrics=['accuracy']\n",
    ")\n"
   ]
  },
  {
   "cell_type": "markdown",
   "metadata": {
    "id": "3pwN1-Bpiirh"
   },
   "source": [
    "## Confusion Matrix"
   ]
  },
  {
   "cell_type": "code",
   "execution_count": null,
   "metadata": {
    "id": "YUFnBNO9iirh"
   },
   "outputs": [],
   "source": [
    "test_labels = list(\n",
    "    test_ds.map(lambda x,y: y)\n",
    "        .flat_map(tf.data.Dataset.from_tensor_slices)\n",
    "        .as_numpy_iterator()\n",
    ")\n",
    "ConfusionMatrix(class_names, TRUE_LABELS, PREDICTED_LABELS)"
   ]
  },
  {
   "cell_type": "code",
   "execution_count": null,
   "metadata": {},
   "outputs": [],
   "source": [
    "#Evaluate model performance"
   ]
  },
  {
   "cell_type": "code",
   "execution_count": null,
   "metadata": {},
   "outputs": [],
   "source": [
    "EvaluateModel(model, test_ds, history)"
   ]
  }
 ],
 "metadata": {
  "colab": {
   "provenance": []
  },
  "kernelspec": {
   "display_name": "Python 3 (ipykernel)",
   "language": "python",
   "name": "python3"
  },
  "language_info": {
   "codemirror_mode": {
    "name": "ipython",
    "version": 3
   },
   "file_extension": ".py",
   "mimetype": "text/x-python",
   "name": "python",
   "nbconvert_exporter": "python",
   "pygments_lexer": "ipython3",
   "version": "3.9.13"
  }
 },
 "nbformat": 4,
 "nbformat_minor": 1
}
