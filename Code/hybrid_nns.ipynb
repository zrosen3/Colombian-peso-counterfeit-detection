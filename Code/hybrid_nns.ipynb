{
  "cells": [
    {
      "cell_type": "code",
      "source": [
        "#Set up google colab working environment\n",
        "%cd ~/../content\n",
        "%rm -rf Colombian-peso-counterfeit-detection\n",
        "!git clone https://github.com/zrosen3/Colombian-peso-counterfeit-detection.git\n",
        "%cd /content/Colombian-peso-counterfeit-detection/Code"
      ],
      "metadata": {
        "id": "h96vqEFHPqif",
        "outputId": "50313cb7-55d4-43d5-8eba-9e538c41bce0",
        "colab": {
          "base_uri": "https://localhost:8080/"
        }
      },
      "execution_count": 1,
      "outputs": [
        {
          "output_type": "stream",
          "name": "stdout",
          "text": [
            "/content\n",
            "Cloning into 'Colombian-peso-counterfeit-detection'...\n",
            "remote: Enumerating objects: 42327, done.\u001b[K\n",
            "remote: Counting objects: 100% (153/153), done.\u001b[K\n",
            "remote: Compressing objects: 100% (120/120), done.\u001b[K\n",
            "remote: Total 42327 (delta 102), reused 50 (delta 33), pack-reused 42174\u001b[K\n",
            "Receiving objects: 100% (42327/42327), 884.95 MiB | 39.77 MiB/s, done.\n",
            "Resolving deltas: 100% (1261/1261), done.\n",
            "Updating files: 100% (103997/103997), done.\n",
            "/content/Colombian-peso-counterfeit-detection/Code\n"
          ]
        }
      ]
    },
    {
      "cell_type": "code",
      "execution_count": 2,
      "metadata": {
        "id": "UWEMpjNGiirf"
      },
      "outputs": [],
      "source": [
        "import os\n",
        "os.environ['TF_CPP_MIN_LOG_LEVEL'] = '3' \n",
        "\n",
        "import numpy as np\n",
        "import tensorflow as tf\n",
        "import common_functions as cf"
      ]
    },
    {
      "cell_type": "markdown",
      "metadata": {
        "id": "28nGmi2Fiirg",
        "outputId": "1bb6cd04-77bf-4595-8093-00e2f3844512"
      },
      "source": [
        "# Load data"
      ]
    },
    {
      "cell_type": "code",
      "execution_count": 3,
      "metadata": {
        "colab": {
          "base_uri": "https://localhost:8080/"
        },
        "id": "HDDjP4RD4_B0",
        "outputId": "1c36eced-ed34-48b2-c3c7-903e50fcadf0"
      },
      "outputs": [
        {
          "output_type": "stream",
          "name": "stdout",
          "text": [
            "Found 24958 files belonging to 13 classes.\n",
            "Found 8320 files belonging to 13 classes.\n",
            "Found 8320 files belonging to 13 classes.\n"
          ]
        }
      ],
      "source": [
        "train_ds, test_ds, validation_ds, class_names = cf.LoadData(path = \"../Data/Augmented/\", batch_size=12)\n"
      ]
    },
    {
      "cell_type": "markdown",
      "metadata": {
        "id": "72X2F21xm4hp"
      },
      "source": [
        "## Create ensemble of CNNs"
      ]
    },
    {
      "cell_type": "markdown",
      "metadata": {
        "id": "tuhMmFY7Q4fA"
      },
      "source": [
        "Create ensemble model"
      ]
    },
    {
      "cell_type": "code",
      "execution_count": 4,
      "metadata": {
        "colab": {
          "base_uri": "https://localhost:8080/",
          "height": 472
        },
        "id": "TZl90QkMm4hp",
        "outputId": "e890f9d3-a8d0-47c4-ad3c-5a217a7f3dc8"
      },
      "outputs": [
        {
          "output_type": "stream",
          "name": "stdout",
          "text": [
            "Epoch 1/5\n",
            "2080/2080 [==============================] - 180s 83ms/step - loss: 71.0299 - accuracy: 0.3688 - val_loss: 14.1554 - val_accuracy: 0.4858\n",
            "Epoch 2/5\n",
            "2080/2080 [==============================] - 180s 86ms/step - loss: 23.0720 - accuracy: 0.4829 - val_loss: 21.0247 - val_accuracy: 0.5212\n",
            "Epoch 3/5\n",
            "2080/2080 [==============================] - 178s 85ms/step - loss: 12.6660 - accuracy: 0.5421 - val_loss: 5.7776 - val_accuracy: 0.6506\n",
            "Epoch 4/5\n",
            "2080/2080 [==============================] - 179s 86ms/step - loss: 12.7129 - accuracy: 0.6241 - val_loss: 1.2170 - val_accuracy: 0.7631\n",
            "Epoch 5/5\n",
            "2080/2080 [==============================] - 183s 88ms/step - loss: 4.4555 - accuracy: 0.6799 - val_loss: 31.2951 - val_accuracy: 0.4599\n",
            "Epoch 1/5\n",
            "2080/2080 [==============================] - 179s 82ms/step - loss: 2.7236 - accuracy: 0.0765 - val_loss: 2.5649 - val_accuracy: 0.0769\n",
            "Epoch 2/5\n",
            "2080/2080 [==============================] - 166s 80ms/step - loss: 2.5650 - accuracy: 0.0769 - val_loss: 2.5649 - val_accuracy: 0.0769\n",
            "Epoch 3/5\n",
            "2080/2080 [==============================] - 161s 77ms/step - loss: 2.5650 - accuracy: 0.0769 - val_loss: 2.5649 - val_accuracy: 0.0769\n",
            "Epoch 4/5\n",
            "2080/2080 [==============================] - 159s 76ms/step - loss: 2.5650 - accuracy: 0.0769 - val_loss: 2.5649 - val_accuracy: 0.0769\n",
            "Epoch 5/5\n",
            "2080/2080 [==============================] - 172s 82ms/step - loss: 2.5650 - accuracy: 0.0769 - val_loss: 2.5649 - val_accuracy: 0.0769\n"
          ]
        },
        {
          "output_type": "execute_result",
          "data": {
            "text/plain": [
              "\"\\n#Model 3 = CNN-LTSM\\ncnn_ltsm = tf.keras.Sequential([\\n    tf.keras.layers.Rescaling(1./255),\\n    tf.keras.layers.ConvLSTM2D(16, 3, kernel_regularizer='l2', activation='relu'),\\n    tf.keras.layers.MaxPooling2D(),\\n    tf.keras.layers.Flatten(),\\n    tf.keras.layers.Dropout(rate=0.4),\\n    tf.keras.layers.Dense(len(class_names)) \\n])\\n\\ncnn_ltsm.compile(\\noptimizer='adam',\\nloss='sparse_categorical_crossentropy',\\nmetrics=['accuracy'])\\n\\ncnn_ltsm.fit(\\ntrain_ds,\\nvalidation_data=validation_ds,\\nepochs=5)\\n\\n\""
            ],
            "application/vnd.google.colaboratory.intrinsic+json": {
              "type": "string"
            }
          },
          "metadata": {},
          "execution_count": 4
        }
      ],
      "source": [
        "#Initialize keras session\n",
        "tf.keras.backend.clear_session()\n",
        "np.random.seed(0)\n",
        "tf.random.set_seed(0)\n",
        "#ANN\n",
        "ann = tf.keras.Sequential([\n",
        "            tf.keras.layers.Input(shape=(480, 640, 3)),\n",
        "            tf.keras.layers.Rescaling(1./255),\n",
        "            tf.keras.layers.Flatten(),\n",
        "            tf.keras.layers.Dense(256),\n",
        "            tf.keras.layers.Dense(128),\n",
        "            tf.keras.layers.Dense(128),\n",
        "            tf.keras.layers.Dense(\n",
        "                  units = 13,\n",
        "                activation = \"softmax\"\n",
        "          )])\n",
        "ann.compile(\n",
        "optimizer='adam',\n",
        "loss='sparse_categorical_crossentropy',\n",
        "metrics=['accuracy'])\n",
        "\n",
        "ann.fit(\n",
        "train_ds,\n",
        "validation_data=validation_ds,\n",
        "epochs=5)\n",
        "  \n",
        "#Model 2 = Custom CNN\n",
        "cnn = tf.keras.Sequential([\n",
        "    tf.keras.layers.Rescaling(1./255),\n",
        "    tf.keras.layers.Conv2D(16, 3, activation='relu'),\n",
        "    tf.keras.layers.MaxPooling2D(),\n",
        "    tf.keras.layers.Conv2D(32, 3, activation='relu'),\n",
        "    tf.keras.layers.MaxPooling2D(),\n",
        "    tf.keras.layers.Flatten(),\n",
        "    tf.keras.layers.Dropout(rate=0.1),\n",
        "    tf.keras.layers.Dense(len(class_names))])\n",
        "cnn.compile(\n",
        "optimizer='adam',\n",
        "loss='sparse_categorical_crossentropy',\n",
        "metrics=['accuracy'])\n",
        "\n",
        "cnn.fit(\n",
        "train_ds,\n",
        "validation_data=validation_ds,\n",
        "epochs=5)\n",
        "'''\n",
        "#Model 3 = CNN-LTSM\n",
        "cnn_ltsm = tf.keras.Sequential([\n",
        "    tf.keras.layers.Rescaling(1./255),\n",
        "    tf.keras.layers.ConvLSTM2D(16, 3, kernel_regularizer='l2', activation='relu'),\n",
        "    tf.keras.layers.MaxPooling2D(),\n",
        "    tf.keras.layers.Flatten(),\n",
        "    tf.keras.layers.Dropout(rate=0.4),\n",
        "    tf.keras.layers.Dense(len(class_names)) \n",
        "])\n",
        "\n",
        "cnn_ltsm.compile(\n",
        "optimizer='adam',\n",
        "loss='sparse_categorical_crossentropy',\n",
        "metrics=['accuracy'])\n",
        "\n",
        "cnn_ltsm.fit(\n",
        "train_ds,\n",
        "validation_data=validation_ds,\n",
        "epochs=5)\n",
        "\n",
        "'''"
      ]
    },
    {
      "cell_type": "markdown",
      "metadata": {
        "id": "cBRm9DXJXyTT"
      },
      "source": [
        "Create ensemble model"
      ]
    },
    {
      "cell_type": "code",
      "execution_count": 5,
      "metadata": {
        "id": "X9JcJOH4sUU1"
      },
      "outputs": [],
      "source": [
        "models = [ann, cnn]\n",
        "input_layer = tf.keras.layers.Input(shape=(480, 640, 3))  \n",
        "outputs = []\n",
        "for i,model in enumerate(models):\n",
        "    model._name = str(i)\n",
        "    output = model(input_layer)\n",
        "    outputs.append(output)\n",
        "averaged_outputs = tf.reduce_mean(outputs, axis = 0)\n",
        "output_layer = tf.keras.layers.Dense(13, activation='softmax')(averaged_outputs)  \n",
        "ensemble_model = tf.keras.models.Model(inputs=input_layer, outputs=output_layer)"
      ]
    },
    {
      "cell_type": "markdown",
      "metadata": {
        "id": "K_VmzW1JQ8Ov"
      },
      "source": [
        "Fit ensemble model\n",
        "\n"
      ]
    },
    {
      "cell_type": "code",
      "execution_count": 6,
      "metadata": {
        "colab": {
          "base_uri": "https://localhost:8080/"
        },
        "id": "AF_tzPY7jJqU",
        "outputId": "be472269-19dd-48db-a4df-c3e5d5fcf51f"
      },
      "outputs": [
        {
          "output_type": "stream",
          "name": "stdout",
          "text": [
            "Epoch 1/5\n",
            "2080/2080 [==============================] - 246s 116ms/step - loss: 1.1019 - accuracy: 0.7351 - val_loss: 0.1980 - val_accuracy: 0.9410\n",
            "Epoch 2/5\n",
            "2080/2080 [==============================] - 247s 119ms/step - loss: 0.1049 - accuracy: 0.9674 - val_loss: 0.1262 - val_accuracy: 0.9629\n",
            "Epoch 3/5\n",
            "2080/2080 [==============================] - 248s 119ms/step - loss: 0.0645 - accuracy: 0.9805 - val_loss: 0.1786 - val_accuracy: 0.9486\n",
            "Epoch 4/5\n",
            "2080/2080 [==============================] - 236s 114ms/step - loss: 0.0527 - accuracy: 0.9839 - val_loss: 0.1852 - val_accuracy: 0.9547\n",
            "Epoch 5/5\n",
            "2080/2080 [==============================] - 254s 122ms/step - loss: 0.0480 - accuracy: 0.9841 - val_loss: 0.1592 - val_accuracy: 0.9651\n"
          ]
        }
      ],
      "source": [
        "ensemble_model.compile(\n",
        "    optimizer='adam',\n",
        "    loss='sparse_categorical_crossentropy',\n",
        "    metrics=['accuracy'])\n",
        "\n",
        "history = ensemble_model.fit(\n",
        "  train_ds,\n",
        "  validation_data=validation_ds,\n",
        "  epochs=5)"
      ]
    },
    {
      "cell_type": "markdown",
      "metadata": {
        "id": "3pwN1-Bpiirh"
      },
      "source": [
        "## Inspect model performance"
      ]
    },
    {
      "cell_type": "code",
      "execution_count": 7,
      "metadata": {
        "colab": {
          "base_uri": "https://localhost:8080/",
          "height": 410
        },
        "id": "46rcAXMAm4hq",
        "outputId": "e74158d7-04a6-46fe-90bc-f43af5be81b2"
      },
      "outputs": [
        {
          "output_type": "display_data",
          "data": {
            "text/plain": [
              "<Figure size 1200x400 with 2 Axes>"
            ],
            "image/png": "[encoded data removed]"
          },
          "metadata": {}
        },
        {
          "output_type": "stream",
          "name": "stdout",
          "text": [
            "694/694 - 43s - loss: 0.1755 - accuracy: 0.9633 - 43s/epoch - 62ms/step\n",
            "Test loss: 0.17548489570617676 | Test accuracy: 0.9633413553237915\n"
          ]
        },
        {
          "output_type": "execute_result",
          "data": {
            "text/plain": [
              "(0.9840531945228577, 0.9651442170143127, 0.9633413553237915)"
            ]
          },
          "metadata": {},
          "execution_count": 7
        }
      ],
      "source": [
        "cf.EvaluateModel(ensemble_model, test_ds, history)\n"
      ]
    }
  ],
  "metadata": {
    "accelerator": "GPU",
    "colab": {
      "provenance": []
    },
    "gpuClass": "premium",
    "kernelspec": {
      "display_name": "Python 3 (ipykernel)",
      "language": "python",
      "name": "python3"
    },
    "language_info": {
      "codemirror_mode": {
        "name": "ipython",
        "version": 3
      },
      "file_extension": ".py",
      "mimetype": "text/x-python",
      "name": "python",
      "nbconvert_exporter": "python",
      "pygments_lexer": "ipython3",
      "version": "3.8.10"
    }
  },
  "nbformat": 4,
  "nbformat_minor": 0
}