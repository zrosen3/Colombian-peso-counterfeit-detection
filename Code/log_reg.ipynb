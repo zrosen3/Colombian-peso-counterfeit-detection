{
  "cells": [
    {
      "cell_type": "markdown",
      "metadata": {
        "id": "view-in-github",
        "colab_type": "text"
      },
      "source": [
        "<a href=\"https://colab.research.google.com/github/zrosen3/Colombian-peso-counterfeit-detection/blob/main/Code/log_reg.ipynb\" target=\"_parent\"><img src=\"https://colab.research.google.com/assets/colab-badge.svg\" alt=\"Open In Colab\"/></a>"
      ]
    },
    {
      "cell_type": "markdown",
      "metadata": {
        "id": "_0kj4AKym4ho"
      },
      "source": [
        "#Load libraries"
      ]
    },
    {
      "cell_type": "code",
      "source": [
        "#Set up google colab working environment\n",
        "%cd /content/\n",
        "%rm -rf Colombian-peso-counterfeit-detection\n",
        "!git clone https://github.com/zrosen3/Colombian-peso-counterfeit-detection.git \n",
        "%cd /content/Colombian-peso-counterfeit-detection/Code       "
      ],
      "metadata": {
        "id": "izMJoi0lnQAe"
      },
      "execution_count": null,
      "outputs": []
    },
    {
      "cell_type": "code",
      "execution_count": null,
      "metadata": {
        "id": "UWEMpjNGiirf"
      },
      "outputs": [],
      "source": [
        "import matplotlib.pyplot as plt #For plotting our visualizations\n",
        "import numpy as np\n",
        "import pandas as pd\n",
        "import tensorflow as tf\n",
        "from sklearn.neighbors import KNeighborsClassifier\n",
        "from sklearn.tree import DecisionTreeClassifier\n",
        "from sklearn.ensemble import RandomForestClassifier\n",
        "import cv2\n",
        "from PIL import Image\n",
        "import seaborn as sns\n",
        "import common_functions as cf\n"
      ]
    },
    {
      "cell_type": "markdown",
      "metadata": {
        "id": "28nGmi2Fiirg",
        "outputId": "1bb6cd04-77bf-4595-8093-00e2f3844512"
      },
      "source": [
        "#Load in data"
      ]
    },
    {
      "cell_type": "code",
      "execution_count": null,
      "metadata": {
        "id": "HDDjP4RD4_B0"
      },
      "outputs": [],
      "source": [
        "train_ds, test_ds, validation_ds, class_names = cf.LoadData()\n"
      ]
    },
    {
      "cell_type": "markdown",
      "metadata": {
        "id": "72X2F21xm4hp"
      },
      "source": [
        "## Run logistic regression model"
      ]
    },
    {
      "cell_type": "code",
      "execution_count": null,
      "metadata": {
        "id": "TZl90QkMm4hp"
      },
      "outputs": [],
      "source": [
        "tf.keras.backend.clear_session()\n",
        "np.random.seed(0)\n",
        "tf.random.set_seed(0)\n",
        "model = tf.keras.Sequential([\n",
        "            tf.keras.layers.Input(shape=(480, 640, 3)),\n",
        "            tf.keras.layers.Rescaling(1./255),\n",
        "            tf.keras.layers.Flatten(),\n",
        "          tf.keras.layers.Dense(\n",
        "                units = 13,\n",
        "               activation = \"softmax\"\n",
        "        )])\n",
        "        \n",
        "model.compile(\n",
        "    optimizer='adam',\n",
        "    loss='sparse_categorical_crossentropy',\n",
        "    metrics=['accuracy'])\n",
        "\n",
        "history = model.fit(\n",
        "    train_ds,\n",
        "    validation_data=validation_ds,\n",
        "    epochs=5)"
      ]
    },
    {
      "cell_type": "markdown",
      "metadata": {
        "id": "3pwN1-Bpiirh"
      },
      "source": [
        "## Inspect model performance"
      ]
    },
    {
      "cell_type": "code",
      "execution_count": null,
      "metadata": {
        "id": "46rcAXMAm4hq"
      },
      "outputs": [],
      "source": [
        "cf.EvaluateModel(model, test_ds, history)"
      ]
    },
    {
      "cell_type": "code",
      "source": [
        "y_pred_probs, y_test, y_pred = cf.ExtractPredictions(model, test_ds)"
      ],
      "metadata": {
        "id": "-6mzm64fyetV"
      },
      "execution_count": null,
      "outputs": []
    },
    {
      "cell_type": "code",
      "source": [
        "#cf.PrecisionRecallScores(y_test, y_pred) #seems to be working\n",
        "#cf.ConfusionMatrix(class_names, y_test, y_pred) #seems to be working\n",
        "#cf.individual_ROCs( class_names, y_pred_probs, y_test, y_pred)\n",
        "#cf.macro_averaged_ROC(y_pred_probs, y_test, y_pred)"
      ],
      "metadata": {
        "id": "FvSvEu1uBXhK"
      },
      "execution_count": null,
      "outputs": []
    }
  ],
  "metadata": {
    "colab": {
      "provenance": [],
      "include_colab_link": true
    },
    "kernelspec": {
      "display_name": "Python 3 (ipykernel)",
      "language": "python",
      "name": "python3"
    },
    "language_info": {
      "codemirror_mode": {
        "name": "ipython",
        "version": 3
      },
      "file_extension": ".py",
      "mimetype": "text/x-python",
      "name": "python",
      "nbconvert_exporter": "python",
      "pygments_lexer": "ipython3",
      "version": "3.9.13"
    },
    "gpuClass": "standard"
  },
  "nbformat": 4,
  "nbformat_minor": 0
}