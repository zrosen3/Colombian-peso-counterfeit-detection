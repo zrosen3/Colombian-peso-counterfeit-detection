{
  "cells": [
    {
      "cell_type": "markdown",
      "metadata": {
        "id": "LcuYhY1hmLU5"
      },
      "source": [
        "\n",
        "\n",
        "#Load libraries"
      ]
    },
    {
      "cell_type": "code",
      "source": [
        "#Set up google colab working environment\n",
        "!pwd\n",
        "!git clone https://github.com/zrosen3/Colombian-peso-counterfeit-detection.git\n",
        "%cd /content/Colombian-peso-counterfeit-detection/Code\n",
        "!pwd\n"
      ],
      "metadata": {
        "id": "dkhkJLVmmti5",
        "outputId": "d88a505b-843b-4f58-91be-563d982a5795",
        "colab": {
          "base_uri": "https://localhost:8080/"
        }
      },
      "execution_count": 14,
      "outputs": [
        {
          "output_type": "stream",
          "name": "stdout",
          "text": [
            "/content\n",
            "Cloning into 'Colombian-peso-counterfeit-detection'...\n",
            "remote: Enumerating objects: 21046, done.\u001b[K\n",
            "remote: Counting objects: 100% (81/81), done.\u001b[K\n",
            "remote: Compressing objects: 100% (63/63), done.\u001b[K\n",
            "remote: Total 21046 (delta 39), reused 49 (delta 16), pack-reused 20965\u001b[K\n",
            "Receiving objects: 100% (21046/21046), 439.89 MiB | 27.18 MiB/s, done.\n",
            "Resolving deltas: 100% (133/133), done.\n",
            "Updating files: 100% (62414/62414), done.\n",
            "/content/Colombian-peso-counterfeit-detection/Code\n",
            "/content/Colombian-peso-counterfeit-detection/Code\n"
          ]
        }
      ]
    },
    {
      "cell_type": "code",
      "execution_count": 2,
      "metadata": {
        "id": "wbZzwtjGwKqs"
      },
      "outputs": [],
      "source": [
        "import matplotlib.pyplot as plt \n",
        "import numpy as np\n",
        "import pandas as pd\n",
        "import tensorflow as tf\n",
        "import tensorflow_datasets as tfds\n",
        "from sklearn.neighbors import KNeighborsClassifier\n",
        "from sklearn.tree import DecisionTreeClassifier\n",
        "from sklearn.ensemble import RandomForestClassifier\n",
        "import cv2\n",
        "from PIL import Image\n",
        "import seaborn as sns\n",
        "from common_functions import LoadData, PeakData, MakeModel, ExtractLabels, ConfusionMatrix, EvaluateModel \n"
      ]
    },
    {
      "cell_type": "markdown",
      "metadata": {
        "outputId": "1bb6cd04-77bf-4595-8093-00e2f3844512",
        "id": "7pP9InjdwKqs"
      },
      "source": [
        "#Load in data"
      ]
    },
    {
      "cell_type": "code",
      "execution_count": 3,
      "metadata": {
        "outputId": "0aa6f049-e168-4892-9f15-73a94addf058",
        "colab": {
          "base_uri": "https://localhost:8080/"
        },
        "id": "b3Xk_Vt2wKqs"
      },
      "outputs": [
        {
          "output_type": "stream",
          "name": "stdout",
          "text": [
            "Found 12479 files belonging to 13 classes.\n",
            "Found 4160 files belonging to 13 classes.\n",
            "Found 4160 files belonging to 13 classes.\n"
          ]
        }
      ],
      "source": [
        "train_ds, test_ds, validation_ds, class_names =  LoadData()\n"
      ]
    },
    {
      "cell_type": "markdown",
      "metadata": {
        "id": "bvETztiWmLU_"
      },
      "source": [
        "## Run logistic regression model"
      ]
    },
    {
      "cell_type": "code",
      "source": [
        "#initialize model\n",
        "tf.keras.backend.clear_session()\n",
        "np.random.seed(0)\n",
        "tf.random.set_seed(0)\n",
        "\n",
        "model = tf.keras.Sequential([\n",
        "    tf.keras.layers.Input(shape=(480, 640, 3)),\n",
        "    tf.keras.layers.Rescaling(1./255),\n",
        "    tf.keras.layers.Flatten(),\n",
        "    tf.keras.layers.Dense(\n",
        "        units = 13,\n",
        "        activation = \"softmax\"\n",
        ")])\n",
        "\n",
        "model.compile(\n",
        "    optimizer='adam',\n",
        "    loss='sparse_categorical_crossentropy',\n",
        "    metrics=['accuracy']\n",
        ")\n",
        "\n"
      ],
      "metadata": {
        "id": "KZ2mu5kTwkuY"
      },
      "execution_count": 4,
      "outputs": []
    },
    {
      "cell_type": "code",
      "source": [
        "history = model.fit(\n",
        "    train_ds,\n",
        "    validation_data=validation_ds,\n",
        "    epochs=6\n",
        ")"
      ],
      "metadata": {
        "id": "087hRNJcPnFv",
        "outputId": "82e89f3b-8876-4ccd-f8be-fa8da0a333d9",
        "colab": {
          "base_uri": "https://localhost:8080/"
        }
      },
      "execution_count": null,
      "outputs": [
        {
          "output_type": "stream",
          "name": "stdout",
          "text": [
            "(32, 480, 640, 3) (32,)\n",
            "1/1 [==============================] - 0s 415ms/step\n",
            "(32, 13)\n",
            "(32, 480, 640, 3) (32,)\n",
            "1/1 [==============================] - 0s 254ms/step\n",
            "(32, 13)\n",
            "(32, 480, 640, 3) (32,)\n",
            "1/1 [==============================] - 0s 382ms/step\n",
            "(32, 13)\n",
            "(32, 480, 640, 3) (32,)\n",
            "1/1 [==============================] - 0s 276ms/step\n",
            "(32, 13)\n",
            "(32, 480, 640, 3) (32,)\n",
            "1/1 [==============================] - 0s 255ms/step\n",
            "(32, 13)\n",
            "(32, 480, 640, 3) (32,)\n",
            "1/1 [==============================] - 0s 229ms/step\n",
            "(32, 13)\n",
            "Epoch 1/10\n",
            "390/390 [==============================] - 225s 574ms/step - loss: 29.7488 - accuracy: 0.5417 - val_loss: 19.2431 - val_accuracy: 0.7163\n",
            "Epoch 2/10\n",
            "390/390 [==============================] - 190s 486ms/step - loss: 13.5205 - accuracy: 0.7299 - val_loss: 8.3988 - val_accuracy: 0.7721\n",
            "Epoch 3/10\n",
            "390/390 [==============================] - 196s 499ms/step - loss: 10.7381 - accuracy: 0.8020 - val_loss: 5.9567 - val_accuracy: 0.8320\n",
            "Epoch 4/10\n",
            "390/390 [==============================] - 169s 431ms/step - loss: 7.2564 - accuracy: 0.8445 - val_loss: 11.6103 - val_accuracy: 0.7827\n",
            "Epoch 5/10\n",
            "390/390 [==============================] - 199s 508ms/step - loss: 6.8041 - accuracy: 0.8752 - val_loss: 7.3186 - val_accuracy: 0.8870\n",
            "Epoch 6/10\n",
            "390/390 [==============================] - 182s 466ms/step - loss: 11.2016 - accuracy: 0.8394 - val_loss: 29.4044 - val_accuracy: 0.7724\n",
            "Epoch 7/10\n",
            "390/390 [==============================] - 183s 467ms/step - loss: 6.7818 - accuracy: 0.8948 - val_loss: 3.9850 - val_accuracy: 0.9308\n",
            "Epoch 8/10\n",
            "390/390 [==============================] - ETA: 0s - loss: 4.0540 - accuracy: 0.9228"
          ]
        }
      ]
    },
    {
      "cell_type": "markdown",
      "source": [
        "Evaluate model"
      ],
      "metadata": {
        "id": "QKhvzFANwlCr"
      }
    },
    {
      "cell_type": "code",
      "source": [
        "EvaluateModel(model, test_ds, history)\n"
      ],
      "metadata": {
        "id": "T6BeIyefwnUm",
        "outputId": "b4fdba55-78de-462e-a8ab-6fc41ceacb13",
        "colab": {
          "base_uri": "https://localhost:8080/",
          "height": 169
        }
      },
      "execution_count": null,
      "outputs": [
        {
          "output_type": "error",
          "ename": "NameError",
          "evalue": "ignored",
          "traceback": [
            "\u001b[0;31m---------------------------------------------------------------------------\u001b[0m",
            "\u001b[0;31mNameError\u001b[0m                                 Traceback (most recent call last)",
            "\u001b[0;32m<ipython-input-7-6e8452fc3b67>\u001b[0m in \u001b[0;36m<module>\u001b[0;34m\u001b[0m\n\u001b[0;32m----> 1\u001b[0;31m \u001b[0mEvaluateModel\u001b[0m\u001b[0;34m(\u001b[0m\u001b[0mmodel\u001b[0m\u001b[0;34m,\u001b[0m \u001b[0mtest_ds\u001b[0m\u001b[0;34m,\u001b[0m \u001b[0mhistory\u001b[0m\u001b[0;34m)\u001b[0m\u001b[0;34m\u001b[0m\u001b[0;34m\u001b[0m\u001b[0m\n\u001b[0m",
            "\u001b[0;31mNameError\u001b[0m: name 'history' is not defined"
          ]
        }
      ]
    }
  ],
  "metadata": {
    "kernelspec": {
      "display_name": "Python 3 (ipykernel)",
      "language": "python",
      "name": "python3"
    },
    "language_info": {
      "codemirror_mode": {
        "name": "ipython",
        "version": 3
      },
      "file_extension": ".py",
      "mimetype": "text/x-python",
      "name": "python",
      "nbconvert_exporter": "python",
      "pygments_lexer": "ipython3",
      "version": "3.9.13"
    },
    "colab": {
      "provenance": []
    }
  },
  "nbformat": 4,
  "nbformat_minor": 0
}