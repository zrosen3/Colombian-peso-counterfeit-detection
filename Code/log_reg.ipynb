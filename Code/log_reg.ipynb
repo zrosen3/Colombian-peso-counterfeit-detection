{
  "cells": [
    {
      "cell_type": "markdown",
      "metadata": {
        "id": "LcuYhY1hmLU5"
      },
      "source": [
        "\n",
        "\n",
        "#Load libraries"
      ]
    },
    {
      "cell_type": "code",
      "source": [
        "#Set up google colab working environment\n",
        "!pwd\n",
        "!git clone https://github.com/zrosen3/Colombian-peso-counterfeit-detection.git\n",
        "%cd /content/Colombian-peso-counterfeit-detection/Code\n",
        "!pwd\n"
      ],
      "metadata": {
        "id": "dkhkJLVmmti5",
        "outputId": "47d91e56-b407-41a6-ed11-7ae806857afa",
        "colab": {
          "base_uri": "https://localhost:8080/"
        }
      },
      "execution_count": 21,
      "outputs": [
        {
          "output_type": "stream",
          "name": "stdout",
          "text": [
            "/content/Colombian-peso-counterfeit-detection/Code\n",
            "fatal: destination path 'Colombian-peso-counterfeit-detection' already exists and is not an empty directory.\n",
            "/content/Colombian-peso-counterfeit-detection/Code\n",
            "/content/Colombian-peso-counterfeit-detection/Code\n"
          ]
        }
      ]
    },
    {
      "cell_type": "code",
      "execution_count": 22,
      "metadata": {
        "id": "wbZzwtjGwKqs"
      },
      "outputs": [],
      "source": [
        "import matplotlib.pyplot as plt \n",
        "import numpy as np\n",
        "import pandas as pd\n",
        "import tensorflow as tf\n",
        "import tensorflow_datasets as tfds\n",
        "from sklearn.neighbors import KNeighborsClassifier\n",
        "from sklearn.tree import DecisionTreeClassifier\n",
        "from sklearn.ensemble import RandomForestClassifier\n",
        "import cv2\n",
        "from PIL import Image\n",
        "import seaborn as sns\n",
        "import common_functions as cf"
      ]
    },
    {
      "cell_type": "markdown",
      "metadata": {
        "outputId": "1bb6cd04-77bf-4595-8093-00e2f3844512",
        "id": "7pP9InjdwKqs"
      },
      "source": [
        "#Load in data"
      ]
    },
    {
      "cell_type": "code",
      "execution_count": 23,
      "metadata": {
        "outputId": "67c49772-5c15-4f35-b051-1f1a3f89a4c4",
        "colab": {
          "base_uri": "https://localhost:8080/"
        },
        "id": "b3Xk_Vt2wKqs"
      },
      "outputs": [
        {
          "output_type": "stream",
          "name": "stdout",
          "text": [
            "Found 12479 files belonging to 13 classes.\n",
            "Found 4160 files belonging to 13 classes.\n",
            "Found 4160 files belonging to 13 classes.\n"
          ]
        }
      ],
      "source": [
        "train_ds, test_ds, validation_ds, class_names =  cf.LoadData()\n"
      ]
    },
    {
      "cell_type": "markdown",
      "metadata": {
        "id": "bvETztiWmLU_"
      },
      "source": [
        "## Run logistic regression model"
      ]
    },
    {
      "cell_type": "code",
      "source": [
        "#initialize model\n",
        "tf.keras.backend.clear_session()\n",
        "np.random.seed(0)\n",
        "tf.random.set_seed(0)\n",
        "\n",
        "model = tf.keras.Sequential([\n",
        "    tf.keras.layers.Input(shape=(480, 640, 3)),\n",
        "    tf.keras.layers.Rescaling(1./255),\n",
        "    tf.keras.layers.Flatten(),\n",
        "    tf.keras.layers.Dense(\n",
        "        units = 13,\n",
        "        activation = \"softmax\"\n",
        ")])\n",
        "\n",
        "model.compile(\n",
        "    optimizer='adam',\n",
        "    loss='sparse_categorical_crossentropy',\n",
        "    metrics=['accuracy']\n",
        ")\n",
        "\n"
      ],
      "metadata": {
        "id": "KZ2mu5kTwkuY"
      },
      "execution_count": 24,
      "outputs": []
    },
    {
      "cell_type": "code",
      "source": [
        "history = model.fit(\n",
        "    train_ds,\n",
        "    validation_data=validation_ds,\n",
        "    epochs=5\n",
        ")"
      ],
      "metadata": {
        "id": "087hRNJcPnFv",
        "outputId": "8b295c9c-513b-4f23-c02f-822b28f9bb7e",
        "colab": {
          "base_uri": "https://localhost:8080/"
        }
      },
      "execution_count": 26,
      "outputs": [
        {
          "output_type": "stream",
          "name": "stdout",
          "text": [
            "Epoch 1/5\n",
            "390/390 [==============================] - 190s 486ms/step - loss: 18.9688 - accuracy: 0.6362 - val_loss: 6.9001 - val_accuracy: 0.7478\n",
            "Epoch 2/5\n",
            "390/390 [==============================] - 171s 436ms/step - loss: 12.8414 - accuracy: 0.7618 - val_loss: 7.6372 - val_accuracy: 0.8046\n",
            "Epoch 3/5\n",
            "390/390 [==============================] - 179s 456ms/step - loss: 8.8145 - accuracy: 0.8262 - val_loss: 16.7490 - val_accuracy: 0.7130\n",
            "Epoch 4/5\n",
            "390/390 [==============================] - 177s 451ms/step - loss: 8.5080 - accuracy: 0.8489 - val_loss: 5.7098 - val_accuracy: 0.8659\n",
            "Epoch 5/5\n",
            "390/390 [==============================] - 185s 471ms/step - loss: 8.8392 - accuracy: 0.8662 - val_loss: 2.8202 - val_accuracy: 0.9022\n"
          ]
        }
      ]
    },
    {
      "cell_type": "markdown",
      "source": [
        "Evaluate model"
      ],
      "metadata": {
        "id": "QKhvzFANwlCr"
      }
    },
    {
      "cell_type": "code",
      "source": [
        "cf.EvaluateModel(model, test_ds, history)\n"
      ],
      "metadata": {
        "id": "T6BeIyefwnUm",
        "outputId": "d1834d70-f908-410e-a6b1-d18a7329f38c",
        "colab": {
          "base_uri": "https://localhost:8080/",
          "height": 319
        }
      },
      "execution_count": 27,
      "outputs": [
        {
          "output_type": "display_data",
          "data": {
            "text/plain": [
              "<Figure size 432x288 with 1 Axes>"
            ],
            "image/png": "[encoded data removed]"
          },
          "metadata": {
            "needs_background": "light"
          }
        },
        {
          "output_type": "stream",
          "name": "stdout",
          "text": [
            "130/130 - 24s - loss: 2.6494 - accuracy: 0.9031 - 24s/epoch - 182ms/step\n",
            "Test loss: 2.649380683898926 | Test accuracy: 0.903124988079071\n"
          ]
        }
      ]
    }
  ],
  "metadata": {
    "kernelspec": {
      "display_name": "Python 3 (ipykernel)",
      "language": "python",
      "name": "python3"
    },
    "language_info": {
      "codemirror_mode": {
        "name": "ipython",
        "version": 3
      },
      "file_extension": ".py",
      "mimetype": "text/x-python",
      "name": "python",
      "nbconvert_exporter": "python",
      "pygments_lexer": "ipython3",
      "version": "3.9.13"
    },
    "colab": {
      "provenance": []
    }
  },
  "nbformat": 4,
  "nbformat_minor": 0
}