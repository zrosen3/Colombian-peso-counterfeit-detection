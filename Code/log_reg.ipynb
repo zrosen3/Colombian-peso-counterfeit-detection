{
  "cells": [
    {
      "cell_type": "markdown",
      "metadata": {
        "id": "view-in-github",
        "colab_type": "text"
      },
      "source": [
        "<a href=\"https://colab.research.google.com/github/zrosen3/Colombian-peso-counterfeit-detection/blob/main/Code/log_reg.ipynb\" target=\"_parent\"><img src=\"https://colab.research.google.com/assets/colab-badge.svg\" alt=\"Open In Colab\"/></a>"
      ]
    },
    {
      "cell_type": "markdown",
      "metadata": {
        "id": "_0kj4AKym4ho"
      },
      "source": [
        "#Load libraries"
      ]
    },
    {
      "cell_type": "code",
      "source": [
        "#Set up google colab working environment\n",
        "!pwd\n",
        "!pip install tensorflow_decision_forests\n",
        "!git clone https://github.com/zrosen3/Colombian-peso-counterfeit-detection.git \n",
        "%cd /content/Colombian-peso-counterfeit-detection/Code       \n",
        "!pwd      "
      ],
      "metadata": {
        "colab": {
          "base_uri": "https://localhost:8080/"
        },
        "id": "izMJoi0lnQAe",
        "outputId": "a8d95926-d514-40b0-da21-2d240fda2337"
      },
      "execution_count": 2,
      "outputs": [
        {
          "output_type": "stream",
          "name": "stdout",
          "text": [
            "/content\n",
            "Cloning into 'Colombian-peso-counterfeit-detection'...\n",
            "remote: Enumerating objects: 21078, done.\u001b[K\n",
            "remote: Counting objects: 100% (113/113), done.\u001b[K\n",
            "remote: Compressing objects: 100% (87/87), done.\u001b[K\n",
            "remote: Total 21078 (delta 59), reused 62 (delta 24), pack-reused 20965\u001b[K\n",
            "Receiving objects: 100% (21078/21078), 440.16 MiB | 24.85 MiB/s, done.\n",
            "Resolving deltas: 100% (153/153), done.\n",
            "Updating files: 100% (62416/62416), done.\n",
            "/content/Colombian-peso-counterfeit-detection/Code\n",
            "/content/Colombian-peso-counterfeit-detection/Code\n"
          ]
        }
      ]
    },
    {
      "cell_type": "code",
      "execution_count": 5,
      "metadata": {
        "id": "UWEMpjNGiirf"
      },
      "outputs": [],
      "source": [
        "import matplotlib.pyplot as plt #For plotting our visualizations\n",
        "import numpy as np\n",
        "import pandas as pd\n",
        "import tensorflow as tf\n",
        "import tensorflow_datasets as tfds\n",
        "from sklearn.neighbors import KNeighborsClassifier\n",
        "from sklearn.tree import DecisionTreeClassifier\n",
        "from sklearn.ensemble import RandomForestClassifier\n",
        "import tensorflow_decision_forests as tfdf\n",
        "import cv2\n",
        "from PIL import Image\n",
        "import seaborn as sns\n",
        "import common_functions as cf\n"
      ]
    },
    {
      "cell_type": "markdown",
      "metadata": {
        "id": "28nGmi2Fiirg",
        "outputId": "1bb6cd04-77bf-4595-8093-00e2f3844512"
      },
      "source": [
        "#Load in data"
      ]
    },
    {
      "cell_type": "code",
      "execution_count": 6,
      "metadata": {
        "id": "HDDjP4RD4_B0",
        "colab": {
          "base_uri": "https://localhost:8080/"
        },
        "outputId": "859e1d36-d4f7-4ed5-c294-0bf6afa890fd"
      },
      "outputs": [
        {
          "output_type": "stream",
          "name": "stdout",
          "text": [
            "Found 12479 files belonging to 13 classes.\n",
            "Found 4160 files belonging to 13 classes.\n",
            "Found 4160 files belonging to 13 classes.\n"
          ]
        }
      ],
      "source": [
        "train_ds, test_ds, validation_ds, class_names = cf.LoadData()\n"
      ]
    },
    {
      "cell_type": "markdown",
      "metadata": {
        "id": "72X2F21xm4hp"
      },
      "source": [
        "## Run logistic regression model"
      ]
    },
    {
      "cell_type": "code",
      "execution_count": 11,
      "metadata": {
        "id": "TZl90QkMm4hp",
        "colab": {
          "base_uri": "https://localhost:8080/"
        },
        "outputId": "eabe0f7a-6866-4c00-e09b-a7a421dcdeb5"
      },
      "outputs": [
        {
          "output_type": "stream",
          "name": "stdout",
          "text": [
            "Epoch 1/5\n",
            "390/390 [==============================] - 208s 511ms/step - loss: 33.6813 - accuracy: 0.5299 - val_loss: 6.3775 - val_accuracy: 0.7637\n",
            "Epoch 2/5\n",
            "390/390 [==============================] - 196s 501ms/step - loss: 12.5541 - accuracy: 0.7489 - val_loss: 8.1899 - val_accuracy: 0.8127\n",
            "Epoch 3/5\n",
            "390/390 [==============================] - 227s 582ms/step - loss: 13.4866 - accuracy: 0.7800 - val_loss: 6.3529 - val_accuracy: 0.8425\n",
            "Epoch 4/5\n",
            "390/390 [==============================] - 185s 472ms/step - loss: 7.3319 - accuracy: 0.8514 - val_loss: 3.6934 - val_accuracy: 0.9014\n",
            "Epoch 5/5\n",
            "390/390 [==============================] - 187s 477ms/step - loss: 4.3386 - accuracy: 0.8924 - val_loss: 3.0362 - val_accuracy: 0.9163\n"
          ]
        }
      ],
      "source": [
        "tf.keras.backend.clear_session()\n",
        "np.random.seed(0)\n",
        "tf.random.set_seed(0)\n",
        "model = tf.keras.Sequential([\n",
        "            tf.keras.layers.Input(shape=(480, 640, 3)),\n",
        "            tf.keras.layers.Rescaling(1./255),\n",
        "            tf.keras.layers.Flatten(),\n",
        "          tf.keras.layers.Dense(\n",
        "                units = 13,\n",
        "               activation = \"softmax\"\n",
        "        )])\n",
        "        \n",
        "model.compile(\n",
        "    optimizer='adam',\n",
        "    loss='sparse_categorical_crossentropy',\n",
        "    metrics=['accuracy'])\n",
        "\n",
        "history = model.fit(\n",
        "    train_ds,\n",
        "    validation_data=validation_ds,\n",
        "    epochs=5)"
      ]
    },
    {
      "cell_type": "markdown",
      "metadata": {
        "id": "3pwN1-Bpiirh"
      },
      "source": [
        "## Inspect model performance"
      ]
    },
    {
      "cell_type": "code",
      "execution_count": 12,
      "metadata": {
        "id": "46rcAXMAm4hq",
        "colab": {
          "base_uri": "https://localhost:8080/",
          "height": 319
        },
        "outputId": "ead42605-937d-4112-a1fd-4f68bbd24e52"
      },
      "outputs": [
        {
          "output_type": "display_data",
          "data": {
            "text/plain": [
              "<Figure size 432x288 with 1 Axes>"
            ],
            "image/png": "[encoded data removed]"
          },
          "metadata": {
            "needs_background": "light"
          }
        },
        {
          "output_type": "stream",
          "name": "stdout",
          "text": [
            "130/130 - 26s - loss: 2.5940 - accuracy: 0.9216 - 26s/epoch - 198ms/step\n",
            "Test loss: 2.5939769744873047 | Test accuracy: 0.9216346144676208\n"
          ]
        }
      ],
      "source": [
        "cf.EvaluateModel(model, test_ds, history)"
      ]
    }
  ],
  "metadata": {
    "colab": {
      "provenance": [],
      "include_colab_link": true
    },
    "kernelspec": {
      "display_name": "Python 3 (ipykernel)",
      "language": "python",
      "name": "python3"
    },
    "language_info": {
      "codemirror_mode": {
        "name": "ipython",
        "version": 3
      },
      "file_extension": ".py",
      "mimetype": "text/x-python",
      "name": "python",
      "nbconvert_exporter": "python",
      "pygments_lexer": "ipython3",
      "version": "3.9.13"
    }
  },
  "nbformat": 4,
  "nbformat_minor": 0
}