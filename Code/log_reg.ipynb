{
  "cells": [
    {
      "cell_type": "markdown",
      "metadata": {
        "id": "LcuYhY1hmLU5"
      },
      "source": [
        "\n",
        "\n",
        "#Load libraries"
      ]
    },
    {
      "cell_type": "code",
      "source": [
        "#Set up google colab working environment\n",
        "!pwd\n",
        "!git clone https://github.com/zrosen3/Colombian-peso-counterfeit-detection.git\n",
        "%cd /content/Colombian-peso-counterfeit-detection/Code\n",
        "!pwd\n"
      ],
      "metadata": {
        "id": "dkhkJLVmmti5",
        "outputId": "8a20e0b7-7ab5-40a6-eaa1-52951aa40e76",
        "colab": {
          "base_uri": "https://localhost:8080/"
        }
      },
      "execution_count": 15,
      "outputs": [
        {
          "output_type": "stream",
          "name": "stdout",
          "text": [
            "/content/Colombian-peso-counterfeit-detection/Code\n",
            "Cloning into 'Colombian-peso-counterfeit-detection'...\n",
            "remote: Enumerating objects: 21050, done.\u001b[K\n",
            "remote: Counting objects: 100% (85/85), done.\u001b[K\n",
            "remote: Compressing objects: 100% (67/67), done.\u001b[K\n",
            "remote: Total 21050 (delta 43), reused 46 (delta 16), pack-reused 20965\u001b[K\n",
            "Receiving objects: 100% (21050/21050), 439.89 MiB | 24.88 MiB/s, done.\n",
            "Resolving deltas: 100% (137/137), done.\n",
            "Updating files: 100% (62414/62414), done.\n",
            "/content/Colombian-peso-counterfeit-detection/Code\n",
            "/content/Colombian-peso-counterfeit-detection/Code\n"
          ]
        }
      ]
    },
    {
      "cell_type": "code",
      "execution_count": 16,
      "metadata": {
        "id": "wbZzwtjGwKqs"
      },
      "outputs": [],
      "source": [
        "import matplotlib.pyplot as plt \n",
        "import numpy as np\n",
        "import pandas as pd\n",
        "import tensorflow as tf\n",
        "import tensorflow_datasets as tfds\n",
        "from sklearn.neighbors import KNeighborsClassifier\n",
        "from sklearn.tree import DecisionTreeClassifier\n",
        "from sklearn.ensemble import RandomForestClassifier\n",
        "import cv2\n",
        "from PIL import Image\n",
        "import seaborn as sns\n",
        "from common_functions import LoadData, PeakData, MakeModel, ExtractLabels, ConfusionMatrix, EvaluateModel \n"
      ]
    },
    {
      "cell_type": "markdown",
      "metadata": {
        "outputId": "1bb6cd04-77bf-4595-8093-00e2f3844512",
        "id": "7pP9InjdwKqs"
      },
      "source": [
        "#Load in data"
      ]
    },
    {
      "cell_type": "code",
      "execution_count": 17,
      "metadata": {
        "outputId": "8f82d031-1dbb-4302-dd2d-70c7bc3be85f",
        "colab": {
          "base_uri": "https://localhost:8080/"
        },
        "id": "b3Xk_Vt2wKqs"
      },
      "outputs": [
        {
          "output_type": "stream",
          "name": "stdout",
          "text": [
            "Found 12479 files belonging to 13 classes.\n",
            "Found 4160 files belonging to 13 classes.\n",
            "Found 4160 files belonging to 13 classes.\n"
          ]
        }
      ],
      "source": [
        "train_ds, test_ds, validation_ds, class_names =  LoadData()\n"
      ]
    },
    {
      "cell_type": "markdown",
      "metadata": {
        "id": "bvETztiWmLU_"
      },
      "source": [
        "## Run logistic regression model"
      ]
    },
    {
      "cell_type": "code",
      "source": [
        "#initialize model\n",
        "tf.keras.backend.clear_session()\n",
        "np.random.seed(0)\n",
        "tf.random.set_seed(0)\n",
        "\n",
        "model = tf.keras.Sequential([\n",
        "    tf.keras.layers.Input(shape=(480, 640, 3)),\n",
        "    tf.keras.layers.Rescaling(1./255),\n",
        "    tf.keras.layers.Flatten(),\n",
        "    tf.keras.layers.Dense(\n",
        "        units = 13,\n",
        "        activation = \"softmax\"\n",
        ")])\n",
        "\n",
        "model.compile(\n",
        "    optimizer='adam',\n",
        "    loss='sparse_categorical_crossentropy',\n",
        "    metrics=['accuracy']\n",
        ")\n",
        "\n"
      ],
      "metadata": {
        "id": "KZ2mu5kTwkuY"
      },
      "execution_count": 18,
      "outputs": []
    },
    {
      "cell_type": "code",
      "source": [
        "history = model.fit(\n",
        "    train_ds,\n",
        "    validation_data=validation_ds,\n",
        "    epochs=6\n",
        ")"
      ],
      "metadata": {
        "id": "087hRNJcPnFv",
        "outputId": "4bea381b-6eca-4614-830f-49f651278273",
        "colab": {
          "base_uri": "https://localhost:8080/"
        }
      },
      "execution_count": 19,
      "outputs": [
        {
          "output_type": "stream",
          "name": "stdout",
          "text": [
            "Epoch 1/6\n",
            "390/390 [==============================] - 227s 567ms/step - loss: 31.6570 - accuracy: 0.5250 - val_loss: 28.0872 - val_accuracy: 0.6675\n",
            "Epoch 2/6\n",
            "390/390 [==============================] - 212s 542ms/step - loss: 11.8240 - accuracy: 0.7495 - val_loss: 15.3971 - val_accuracy: 0.7423\n",
            "Epoch 3/6\n",
            "390/390 [==============================] - 200s 513ms/step - loss: 8.9183 - accuracy: 0.8153 - val_loss: 4.4288 - val_accuracy: 0.8060\n",
            "Epoch 4/6\n",
            "390/390 [==============================] - 188s 480ms/step - loss: 7.4446 - accuracy: 0.8407 - val_loss: 11.7477 - val_accuracy: 0.7493\n",
            "Epoch 5/6\n",
            "390/390 [==============================] - 174s 445ms/step - loss: 5.8878 - accuracy: 0.8751 - val_loss: 1.4467 - val_accuracy: 0.9490\n",
            "Epoch 6/6\n",
            "390/390 [==============================] - 188s 480ms/step - loss: 5.3865 - accuracy: 0.8961 - val_loss: 2.6151 - val_accuracy: 0.8861\n"
          ]
        }
      ]
    },
    {
      "cell_type": "markdown",
      "source": [
        "Evaluate model"
      ],
      "metadata": {
        "id": "QKhvzFANwlCr"
      }
    },
    {
      "cell_type": "code",
      "source": [
        "EvaluateModel(model, test_ds, history)\n"
      ],
      "metadata": {
        "id": "T6BeIyefwnUm",
        "outputId": "b396487d-84b7-4a8e-a414-73fbb9466467",
        "colab": {
          "base_uri": "https://localhost:8080/",
          "height": 319
        }
      },
      "execution_count": 20,
      "outputs": [
        {
          "output_type": "display_data",
          "data": {
            "text/plain": [
              "<Figure size 432x288 with 1 Axes>"
            ],
            "image/png": "[encoded data removed]"
          },
          "metadata": {
            "needs_background": "light"
          }
        },
        {
          "output_type": "stream",
          "name": "stdout",
          "text": [
            "130/130 - 24s - loss: 2.4405 - accuracy: 0.8918 - 24s/epoch - 186ms/step\n",
            "Test loss: 2.440476417541504 | Test accuracy: 0.8918269276618958\n"
          ]
        }
      ]
    }
  ],
  "metadata": {
    "kernelspec": {
      "display_name": "Python 3 (ipykernel)",
      "language": "python",
      "name": "python3"
    },
    "language_info": {
      "codemirror_mode": {
        "name": "ipython",
        "version": 3
      },
      "file_extension": ".py",
      "mimetype": "text/x-python",
      "name": "python",
      "nbconvert_exporter": "python",
      "pygments_lexer": "ipython3",
      "version": "3.9.13"
    },
    "colab": {
      "provenance": []
    }
  },
  "nbformat": 4,
  "nbformat_minor": 0
}