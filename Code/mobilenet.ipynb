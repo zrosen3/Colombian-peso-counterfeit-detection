{
  "cells": [
    {
      "cell_type": "markdown",
      "metadata": {
        "id": "LcuYhY1hmLU5"
      },
      "source": [
        "\n",
        "\n",
        "#Load libraries"
      ]
    },
    {
      "cell_type": "code",
      "execution_count": 1,
      "metadata": {
        "colab": {
          "base_uri": "https://localhost:8080/"
        },
        "id": "dkhkJLVmmti5",
        "outputId": "1dcce65a-c7df-4dfe-b8b2-4e249c1b9464"
      },
      "outputs": [
        {
          "output_type": "stream",
          "name": "stdout",
          "text": [
            "fatal: destination path 'Colombian-peso-counterfeit-detection' already exists and is not an empty directory.\n",
            "/content/Colombian-peso-counterfeit-detection/Code\n",
            "/content/Colombian-peso-counterfeit-detection/Code\n"
          ]
        }
      ],
      "source": [
        "#Set up google colab working environment\n",
        "!git clone https://github.com/zrosen3/Colombian-peso-counterfeit-detection.git\n",
        "%cd /content/Colombian-peso-counterfeit-detection/Code\n",
        "!pwd"
      ]
    },
    {
      "cell_type": "code",
      "execution_count": 2,
      "metadata": {
        "id": "wbZzwtjGwKqs"
      },
      "outputs": [],
      "source": [
        "import matplotlib.pyplot as plt #For plotting our visualizations\n",
        "import numpy as np\n",
        "import pandas as pd\n",
        "import tensorflow as tf\n",
        "import tensorflow_datasets as tfds\n",
        "from sklearn.neighbors import KNeighborsClassifier\n",
        "from sklearn.tree import DecisionTreeClassifier\n",
        "from sklearn.ensemble import RandomForestClassifier\n",
        "import cv2\n",
        "from PIL import Image\n",
        "import seaborn as sns\n",
        "import keras\n",
        "import common_functions as cf"
      ]
    },
    {
      "cell_type": "markdown",
      "metadata": {
        "id": "7pP9InjdwKqs",
        "outputId": "1bb6cd04-77bf-4595-8093-00e2f3844512"
      },
      "source": [
        "#Load in data"
      ]
    },
    {
      "cell_type": "code",
      "execution_count": 3,
      "metadata": {
        "colab": {
          "base_uri": "https://localhost:8080/"
        },
        "id": "b3Xk_Vt2wKqs",
        "outputId": "f3ffa1bf-0037-4fd8-b336-809c00a36427"
      },
      "outputs": [
        {
          "output_type": "stream",
          "name": "stdout",
          "text": [
            "Found 12479 files belonging to 13 classes.\n",
            "Found 4160 files belonging to 13 classes.\n",
            "Found 4160 files belonging to 13 classes.\n"
          ]
        }
      ],
      "source": [
        "train_ds, test_ds, validation_ds, class_names =  cf.LoadData()\n"
      ]
    },
    {
      "cell_type": "markdown",
      "metadata": {
        "id": "bvETztiWmLU_"
      },
      "source": [
        "## Run MobileNet model"
      ]
    },
    {
      "cell_type": "code",
      "source": [
        "train_ds"
      ],
      "metadata": {
        "id": "XH1udFnRHZ40",
        "outputId": "6ed8708b-6f1c-4db3-9a3b-2e61bb39a4f7",
        "colab": {
          "base_uri": "https://localhost:8080/"
        }
      },
      "execution_count": 4,
      "outputs": [
        {
          "output_type": "execute_result",
          "data": {
            "text/plain": [
              "<BatchDataset element_spec=(TensorSpec(shape=(None, 480, 640, 3), dtype=tf.float32, name=None), TensorSpec(shape=(None,), dtype=tf.int32, name=None))>"
            ]
          },
          "metadata": {},
          "execution_count": 4
        }
      ]
    },
    {
      "cell_type": "code",
      "execution_count": 5,
      "metadata": {
        "colab": {
          "base_uri": "https://localhost:8080/"
        },
        "id": "KZ2mu5kTwkuY",
        "outputId": "ca59aa8c-14b3-4f24-d662-f86f5c62c95e"
      },
      "outputs": [
        {
          "output_type": "stream",
          "name": "stdout",
          "text": [
            "Downloading data from https://storage.googleapis.com/tensorflow/keras-applications/mobilenet_v2/mobilenet_v2_weights_tf_dim_ordering_tf_kernels_0.5_224_no_top.h5\n",
            "3201480/3201480 [==============================] - 0s 0us/step\n",
            "Epoch 1/5\n",
            "390/390 [==============================] - 1146s 3s/step - loss: 2.5659 - accuracy: 0.0714 - val_loss: 2.5651 - val_accuracy: 0.0769\n",
            "Epoch 2/5\n",
            "390/390 [==============================] - 1080s 3s/step - loss: 2.5659 - accuracy: 0.0712 - val_loss: 2.5651 - val_accuracy: 0.0769\n",
            "Epoch 3/5\n",
            "390/390 [==============================] - 1042s 3s/step - loss: 2.5658 - accuracy: 0.0712 - val_loss: 2.5651 - val_accuracy: 0.0769\n",
            "Epoch 4/5\n",
            "390/390 [==============================] - 1010s 3s/step - loss: 2.5658 - accuracy: 0.0726 - val_loss: 2.5652 - val_accuracy: 0.0769\n",
            "Epoch 5/5\n",
            "390/390 [==============================] - 1001s 3s/step - loss: 2.5659 - accuracy: 0.0712 - val_loss: 2.5651 - val_accuracy: 0.0769\n"
          ]
        }
      ],
      "source": [
        "#initialize model\n",
        "tf.keras.backend.clear_session()\n",
        "np.random.seed(0)\n",
        "tf.random.set_seed(0)\n",
        "\n",
        "#Base mobile net model\n",
        "inputs = tf.keras.Input(shape=(480, 640, 3))\n",
        "resized = tf.image.resize(inputs, (224, 224))\n",
        "x = keras.applications.MobileNetV2(input_shape = (224, 224, 3), include_top = False, alpha = 0.5)(resized, training = False)\n",
        "x = tf.keras.layers.GlobalAveragePooling2D()(x)\n",
        "x = tf.keras.layers.Rescaling(1./255)(x)\n",
        "x = tf.keras.layers.Flatten()(x)\n",
        "outputs = tf.keras.layers.Dense(13, activation='softmax')(x)\n",
        "model = tf.keras.Model(inputs, outputs)\n",
        "\n",
        "#Additional classification layer\n",
        "model.compile(loss=tf.keras.losses.SparseCategoricalCrossentropy(from_logits=False),\n",
        "              optimizer=keras.optimizers.Adam(),\n",
        "              metrics=['accuracy'])\n",
        "\n",
        "history = model.fit(\n",
        "    train_ds,\n",
        "    validation_data=validation_ds,\n",
        "    batch_size = 32,\n",
        "    epochs=5\n",
        ")"
      ]
    },
    {
      "cell_type": "markdown",
      "metadata": {
        "id": "QKhvzFANwlCr"
      },
      "source": [
        "Evaluate model"
      ]
    },
    {
      "cell_type": "code",
      "execution_count": 6,
      "metadata": {
        "colab": {
          "base_uri": "https://localhost:8080/",
          "height": 319
        },
        "id": "T6BeIyefwnUm",
        "outputId": "783a0052-9154-4b88-b0c1-6c842f044318"
      },
      "outputs": [
        {
          "output_type": "display_data",
          "data": {
            "text/plain": [
              "<Figure size 432x288 with 1 Axes>"
            ],
            "image/png": "[encoded data removed]"
          },
          "metadata": {
            "needs_background": "light"
          }
        },
        {
          "output_type": "stream",
          "name": "stdout",
          "text": [
            "130/130 - 77s - loss: 2.5651 - accuracy: 0.0769 - 77s/epoch - 596ms/step\n",
            "Test loss: 2.565128803253174 | Test accuracy: 0.07692307978868484\n"
          ]
        }
      ],
      "source": [
        "cf.EvaluateModel(model, test_ds, history)\n"
      ]
    }
  ],
  "metadata": {
    "colab": {
      "provenance": []
    },
    "kernelspec": {
      "display_name": "Python 3 (ipykernel)",
      "language": "python",
      "name": "python3"
    },
    "language_info": {
      "codemirror_mode": {
        "name": "ipython",
        "version": 3
      },
      "file_extension": ".py",
      "mimetype": "text/x-python",
      "name": "python",
      "nbconvert_exporter": "python",
      "pygments_lexer": "ipython3",
      "version": "3.9.13"
    }
  },
  "nbformat": 4,
  "nbformat_minor": 0
}