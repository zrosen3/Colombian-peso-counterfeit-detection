{
  "cells": [
    {
      "cell_type": "markdown",
      "metadata": {
        "id": "LcuYhY1hmLU5"
      },
      "source": [
        "#Load libraries"
      ],
      "id": "LcuYhY1hmLU5"
    },
    {
      "cell_type": "code",
      "source": [
        "#Set up google colab working environment\n",
        "#!git clone https://github.com/zrosen3/Colombian-peso-counterfeit-detection.git\n",
        "%cd /content/Colombian-peso-counterfeit-detection/Code\n",
        "!pwd\n"
      ],
      "metadata": {
        "id": "dkhkJLVmmti5",
        "outputId": "82532743-058e-4bd7-90b6-b7ea898f0e8c",
        "colab": {
          "base_uri": "https://localhost:8080/"
        }
      },
      "execution_count": null,
      "outputs": [
        {
          "output_type": "stream",
          "name": "stdout",
          "text": [
            "Cloning into 'Colombian-peso-counterfeit-detection'...\n",
            "remote: Enumerating objects: 21027, done.\u001b[K\n",
            "remote: Counting objects: 100% (62/62), done.\u001b[K\n",
            "remote: Compressing objects: 100% (46/46), done.\u001b[K\n",
            "remote: Total 21027 (delta 28), reused 43 (delta 14), pack-reused 20965\u001b[K\n",
            "Receiving objects: 100% (21027/21027), 439.88 MiB | 32.00 MiB/s, done.\n",
            "Resolving deltas: 100% (122/122), done.\n",
            "Updating files: 100% (62414/62414), done.\n",
            "/content/Colombian-peso-counterfeit-detection/Code\n",
            "/content/Colombian-peso-counterfeit-detection/Code\n"
          ]
        }
      ],
      "id": "dkhkJLVmmti5"
    },
    {
      "cell_type": "code",
      "execution_count": null,
      "metadata": {
        "id": "UWEMpjNGiirf"
      },
      "outputs": [],
      "source": [
        "import matplotlib.pyplot as plt #For plotting our visualizations\n",
        "import numpy as np\n",
        "import pandas as pd\n",
        "import tensorflow as tf\n",
        "import tensorflow_datasets as tfds\n",
        "from sklearn.neighbors import KNeighborsClassifier\n",
        "from sklearn.tree import DecisionTreeClassifier\n",
        "from sklearn.ensemble import RandomForestClassifier\n",
        "import cv2\n",
        "from PIL import Image\n",
        "import seaborn as sns\n",
        "from common_functions import LoadData, PeakData, MakeModel, ExtractLabels, ConfusionMatrix, EvaluateModel \n"
      ],
      "id": "UWEMpjNGiirf"
    },
    {
      "cell_type": "markdown",
      "metadata": {
        "id": "28nGmi2Fiirg",
        "outputId": "1bb6cd04-77bf-4595-8093-00e2f3844512"
      },
      "source": [
        "#Load in data"
      ],
      "id": "28nGmi2Fiirg"
    },
    {
      "cell_type": "code",
      "execution_count": null,
      "metadata": {
        "id": "HDDjP4RD4_B0",
        "outputId": "8f9bccb5-78de-4928-9bfe-2649f74a8673",
        "colab": {
          "base_uri": "https://localhost:8080/"
        }
      },
      "outputs": [
        {
          "output_type": "stream",
          "name": "stdout",
          "text": [
            "Found 12479 files belonging to 13 classes.\n",
            "Found 4160 files belonging to 13 classes.\n",
            "Found 4160 files belonging to 13 classes.\n"
          ]
        }
      ],
      "source": [
        "train_ds, test_ds, validation_ds, class_names =  LoadData()\n"
      ],
      "id": "HDDjP4RD4_B0"
    },
    {
      "cell_type": "markdown",
      "metadata": {
        "id": "bvETztiWmLU_"
      },
      "source": [
        "## Run random forest model"
      ],
      "id": "bvETztiWmLU_"
    },
    {
      "cell_type": "code",
      "source": [
        "#TFDF random forest model\n",
        "# Define the model\n",
        "#model = tfdf.keras.RandomForestModel(check_dataset = False)\n",
        "\n",
        "# Compile the model with sparse categorical crossentropy loss\n",
        "#model.compile(loss=tf.keras.losses.SparseCategoricalCrossentropy(from_logits=True),\n",
        "#  metrics=['accuracy'])\n",
        "\n",
        "\n",
        "# Train the model on the dataset\n",
        "#model.fit(train_ds)"
      ],
      "metadata": {
        "id": "j1pEqUrgowcs"
      },
      "id": "j1pEqUrgowcs",
      "execution_count": null,
      "outputs": []
    }
  ],
  "metadata": {
    "colab": {
      "provenance": []
    }
  },
  "nbformat": 4,
  "nbformat_minor": 5
}