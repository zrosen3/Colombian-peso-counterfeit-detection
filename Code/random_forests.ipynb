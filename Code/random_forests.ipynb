{
 "cells": [
  {
   "cell_type": "markdown",
   "id": "LcuYhY1hmLU5",
   "metadata": {
    "id": "LcuYhY1hmLU5"
   },
   "source": [
    "#Load libraries"
   ]
  },
  {
   "cell_type": "code",
   "execution_count": 2,
   "id": "dkhkJLVmmti5",
   "metadata": {
    "colab": {
     "base_uri": "https://localhost:8080/"
    },
    "id": "dkhkJLVmmti5",
    "outputId": "82532743-058e-4bd7-90b6-b7ea898f0e8c"
   },
   "outputs": [],
   "source": [
    "#Set up google colab working environment\n",
    "#!git clone https://github.com/zrosen3/Colombian-peso-counterfeit-detection.git\n",
    "#%cd /content/Colombian-peso-counterfeit-detection/Code\n",
    "#!pwd\n"
   ]
  },
  {
   "cell_type": "code",
   "execution_count": 3,
   "id": "UWEMpjNGiirf",
   "metadata": {
    "id": "UWEMpjNGiirf"
   },
   "outputs": [
    {
     "ename": "ModuleNotFoundError",
     "evalue": "No module named 'tensorflow_datasets'",
     "output_type": "error",
     "traceback": [
      "\u001b[0;31m---------------------------------------------------------------------------\u001b[0m",
      "\u001b[0;31mModuleNotFoundError\u001b[0m                       Traceback (most recent call last)",
      "Cell \u001b[0;32mIn[3], line 5\u001b[0m\n\u001b[1;32m      3\u001b[0m \u001b[38;5;28;01mimport\u001b[39;00m \u001b[38;5;21;01mpandas\u001b[39;00m \u001b[38;5;28;01mas\u001b[39;00m \u001b[38;5;21;01mpd\u001b[39;00m\n\u001b[1;32m      4\u001b[0m \u001b[38;5;28;01mimport\u001b[39;00m \u001b[38;5;21;01mtensorflow\u001b[39;00m \u001b[38;5;28;01mas\u001b[39;00m \u001b[38;5;21;01mtf\u001b[39;00m\n\u001b[0;32m----> 5\u001b[0m \u001b[38;5;28;01mimport\u001b[39;00m \u001b[38;5;21;01mtensorflow_datasets\u001b[39;00m \u001b[38;5;28;01mas\u001b[39;00m \u001b[38;5;21;01mtfds\u001b[39;00m\n\u001b[1;32m      6\u001b[0m \u001b[38;5;28;01mfrom\u001b[39;00m \u001b[38;5;21;01msklearn\u001b[39;00m\u001b[38;5;21;01m.\u001b[39;00m\u001b[38;5;21;01mneighbors\u001b[39;00m \u001b[38;5;28;01mimport\u001b[39;00m KNeighborsClassifier\n\u001b[1;32m      7\u001b[0m \u001b[38;5;28;01mfrom\u001b[39;00m \u001b[38;5;21;01msklearn\u001b[39;00m\u001b[38;5;21;01m.\u001b[39;00m\u001b[38;5;21;01mtree\u001b[39;00m \u001b[38;5;28;01mimport\u001b[39;00m DecisionTreeClassifier\n",
      "\u001b[0;31mModuleNotFoundError\u001b[0m: No module named 'tensorflow_datasets'"
     ]
    }
   ],
   "source": [
    "import matplotlib.pyplot as plt #For plotting our visualizations\n",
    "import numpy as np\n",
    "import pandas as pd\n",
    "import tensorflow as tf\n",
    "import tensorflow_datasets as tfds\n",
    "from sklearn.neighbors import KNeighborsClassifier\n",
    "from sklearn.tree import DecisionTreeClassifier\n",
    "from sklearn.ensemble import RandomForestClassifier\n",
    "import cv2\n",
    "from PIL import Image\n",
    "import seaborn as sns\n",
    "from common_functions import LoadData, PeakData, MakeModel, ExtractLabels, ConfusionMatrix, EvaluateModel \n"
   ]
  },
  {
   "cell_type": "markdown",
   "id": "28nGmi2Fiirg",
   "metadata": {
    "id": "28nGmi2Fiirg",
    "outputId": "1bb6cd04-77bf-4595-8093-00e2f3844512"
   },
   "source": [
    "#Load in data"
   ]
  },
  {
   "cell_type": "code",
   "execution_count": null,
   "id": "HDDjP4RD4_B0",
   "metadata": {
    "colab": {
     "base_uri": "https://localhost:8080/"
    },
    "id": "HDDjP4RD4_B0",
    "outputId": "8f9bccb5-78de-4928-9bfe-2649f74a8673"
   },
   "outputs": [],
   "source": [
    "train_ds, test_ds, validation_ds, class_names =  LoadData()\n"
   ]
  },
  {
   "cell_type": "markdown",
   "id": "bvETztiWmLU_",
   "metadata": {
    "id": "bvETztiWmLU_"
   },
   "source": [
    "## Run random forest model"
   ]
  },
  {
   "cell_type": "code",
   "execution_count": null,
   "id": "j1pEqUrgowcs",
   "metadata": {
    "id": "j1pEqUrgowcs"
   },
   "outputs": [],
   "source": [
    "#TFDF random forest model\n",
    "# Define the model\n",
    "#model = tfdf.keras.RandomForestModel(check_dataset = False)\n",
    "\n",
    "# Compile the model with sparse categorical crossentropy loss\n",
    "#model.compile(loss=tf.keras.losses.SparseCategoricalCrossentropy(from_logits=True),\n",
    "#  metrics=['accuracy'])\n",
    "\n",
    "\n",
    "# Train the model on the dataset\n",
    "#model.fit(train_ds)"
   ]
  }
 ],
 "metadata": {
  "colab": {
   "provenance": []
  },
  "kernelspec": {
   "display_name": "Python 3 (ipykernel)",
   "language": "python",
   "name": "python3"
  },
  "language_info": {
   "codemirror_mode": {
    "name": "ipython",
    "version": 3
   },
   "file_extension": ".py",
   "mimetype": "text/x-python",
   "name": "python",
   "nbconvert_exporter": "python",
   "pygments_lexer": "ipython3",
   "version": "3.10.9"
  }
 },
 "nbformat": 4,
 "nbformat_minor": 5
}
